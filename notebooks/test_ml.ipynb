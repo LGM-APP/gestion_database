{
 "cells": [
  {
   "cell_type": "code",
   "execution_count": 2,
   "metadata": {
    "collapsed": true,
    "ExecuteTime": {
     "end_time": "2023-06-01T21:05:29.295740200Z",
     "start_time": "2023-06-01T21:05:27.448284700Z"
    }
   },
   "outputs": [],
   "source": [
    "import pandas as pd\n",
    "import numpy as np"
   ]
  },
  {
   "cell_type": "code",
   "execution_count": 19,
   "outputs": [
    {
     "data": {
      "text/plain": "       match_id         name  tournament_id  number_of_games  winner_id   \n0        524964    DW vs MMM           2038                1       2796  \\\n1        524965   MMM vs LGC           2038                1       2796   \n2        524968    BMR vs AV           2038                1       1519   \n3        524970   MMM vs BMR           2038                1       1519   \n4        524971    ORD vs DW           2038                1       1521   \n...         ...          ...            ...              ...        ...   \n43969    770192    BLX vs JL          10394                1     132476   \n43970    770193   WYL vs SOL          10394                1     130452   \n43971    770194    AKR vs GM          10394                1     133115   \n43972    770195   MDR vs 3DM          10394                1     130451   \n43973    770196  ZER vs VLNT          10394                1     131616   \n\n       team_id  opponent_id tournament_tier  tournament_has_bracket   \n0          180         2796            None                       0  \\\n1         2796          181            None                       0   \n2         1519          179            None                       0   \n3         2796         1519            None                       0   \n4          180         1521            None                       0   \n...        ...          ...             ...                     ...   \n43969   132476       132656               d                       0   \n43970   133070       130452               d                       0   \n43971   133115       133071               d                       0   \n43972   132474       130451               d                       0   \n43973   132475       131616               d                       0   \n\n      tournament_name  Game 1 winner_id  Game 2 winner_id  Game 3 winner_id   \n0      Regular season              2796                -1                -1  \\\n1      Regular season              2796                -1                -1   \n2      Regular season              1519                -1                -1   \n3      Regular season              1519                -1                -1   \n4      Regular season              1521                -1                -1   \n...               ...               ...               ...               ...   \n43969  Regular Season            132476                -1                -1   \n43970  Regular Season            130452                -1                -1   \n43971  Regular Season            133115                -1                -1   \n43972  Regular Season            130451                -1                -1   \n43973  Regular Season            131616                -1                -1   \n\n       Game 4 winner_id  Game 5 winner_id   \n0                    -1                -1  \\\n1                    -1                -1   \n2                    -1                -1   \n3                    -1                -1   \n4                    -1                -1   \n...                 ...               ...   \n43969                -1                -1   \n43970                -1                -1   \n43971                -1                -1   \n43972                -1                -1   \n43973                -1                -1   \n\n       percentage_of_match_win_after_game_1  \n0                                       NaN  \n1                                       NaN  \n2                                       NaN  \n3                                       NaN  \n4                                       NaN  \n...                                     ...  \n43969                                   NaN  \n43970                                   NaN  \n43971                                   NaN  \n43972                                   NaN  \n43973                                   NaN  \n\n[43974 rows x 16 columns]",
      "text/html": "<div>\n<style scoped>\n    .dataframe tbody tr th:only-of-type {\n        vertical-align: middle;\n    }\n\n    .dataframe tbody tr th {\n        vertical-align: top;\n    }\n\n    .dataframe thead th {\n        text-align: right;\n    }\n</style>\n<table border=\"1\" class=\"dataframe\">\n  <thead>\n    <tr style=\"text-align: right;\">\n      <th></th>\n      <th>match_id</th>\n      <th>name</th>\n      <th>tournament_id</th>\n      <th>number_of_games</th>\n      <th>winner_id</th>\n      <th>team_id</th>\n      <th>opponent_id</th>\n      <th>tournament_tier</th>\n      <th>tournament_has_bracket</th>\n      <th>tournament_name</th>\n      <th>Game 1 winner_id</th>\n      <th>Game 2 winner_id</th>\n      <th>Game 3 winner_id</th>\n      <th>Game 4 winner_id</th>\n      <th>Game 5 winner_id</th>\n      <th>percentage_of_match_win_after_game_1</th>\n    </tr>\n  </thead>\n  <tbody>\n    <tr>\n      <th>0</th>\n      <td>524964</td>\n      <td>DW vs MMM</td>\n      <td>2038</td>\n      <td>1</td>\n      <td>2796</td>\n      <td>180</td>\n      <td>2796</td>\n      <td>None</td>\n      <td>0</td>\n      <td>Regular season</td>\n      <td>2796</td>\n      <td>-1</td>\n      <td>-1</td>\n      <td>-1</td>\n      <td>-1</td>\n      <td>NaN</td>\n    </tr>\n    <tr>\n      <th>1</th>\n      <td>524965</td>\n      <td>MMM vs LGC</td>\n      <td>2038</td>\n      <td>1</td>\n      <td>2796</td>\n      <td>2796</td>\n      <td>181</td>\n      <td>None</td>\n      <td>0</td>\n      <td>Regular season</td>\n      <td>2796</td>\n      <td>-1</td>\n      <td>-1</td>\n      <td>-1</td>\n      <td>-1</td>\n      <td>NaN</td>\n    </tr>\n    <tr>\n      <th>2</th>\n      <td>524968</td>\n      <td>BMR vs AV</td>\n      <td>2038</td>\n      <td>1</td>\n      <td>1519</td>\n      <td>1519</td>\n      <td>179</td>\n      <td>None</td>\n      <td>0</td>\n      <td>Regular season</td>\n      <td>1519</td>\n      <td>-1</td>\n      <td>-1</td>\n      <td>-1</td>\n      <td>-1</td>\n      <td>NaN</td>\n    </tr>\n    <tr>\n      <th>3</th>\n      <td>524970</td>\n      <td>MMM vs BMR</td>\n      <td>2038</td>\n      <td>1</td>\n      <td>1519</td>\n      <td>2796</td>\n      <td>1519</td>\n      <td>None</td>\n      <td>0</td>\n      <td>Regular season</td>\n      <td>1519</td>\n      <td>-1</td>\n      <td>-1</td>\n      <td>-1</td>\n      <td>-1</td>\n      <td>NaN</td>\n    </tr>\n    <tr>\n      <th>4</th>\n      <td>524971</td>\n      <td>ORD vs DW</td>\n      <td>2038</td>\n      <td>1</td>\n      <td>1521</td>\n      <td>180</td>\n      <td>1521</td>\n      <td>None</td>\n      <td>0</td>\n      <td>Regular season</td>\n      <td>1521</td>\n      <td>-1</td>\n      <td>-1</td>\n      <td>-1</td>\n      <td>-1</td>\n      <td>NaN</td>\n    </tr>\n    <tr>\n      <th>...</th>\n      <td>...</td>\n      <td>...</td>\n      <td>...</td>\n      <td>...</td>\n      <td>...</td>\n      <td>...</td>\n      <td>...</td>\n      <td>...</td>\n      <td>...</td>\n      <td>...</td>\n      <td>...</td>\n      <td>...</td>\n      <td>...</td>\n      <td>...</td>\n      <td>...</td>\n      <td>...</td>\n    </tr>\n    <tr>\n      <th>43969</th>\n      <td>770192</td>\n      <td>BLX vs JL</td>\n      <td>10394</td>\n      <td>1</td>\n      <td>132476</td>\n      <td>132476</td>\n      <td>132656</td>\n      <td>d</td>\n      <td>0</td>\n      <td>Regular Season</td>\n      <td>132476</td>\n      <td>-1</td>\n      <td>-1</td>\n      <td>-1</td>\n      <td>-1</td>\n      <td>NaN</td>\n    </tr>\n    <tr>\n      <th>43970</th>\n      <td>770193</td>\n      <td>WYL vs SOL</td>\n      <td>10394</td>\n      <td>1</td>\n      <td>130452</td>\n      <td>133070</td>\n      <td>130452</td>\n      <td>d</td>\n      <td>0</td>\n      <td>Regular Season</td>\n      <td>130452</td>\n      <td>-1</td>\n      <td>-1</td>\n      <td>-1</td>\n      <td>-1</td>\n      <td>NaN</td>\n    </tr>\n    <tr>\n      <th>43971</th>\n      <td>770194</td>\n      <td>AKR vs GM</td>\n      <td>10394</td>\n      <td>1</td>\n      <td>133115</td>\n      <td>133115</td>\n      <td>133071</td>\n      <td>d</td>\n      <td>0</td>\n      <td>Regular Season</td>\n      <td>133115</td>\n      <td>-1</td>\n      <td>-1</td>\n      <td>-1</td>\n      <td>-1</td>\n      <td>NaN</td>\n    </tr>\n    <tr>\n      <th>43972</th>\n      <td>770195</td>\n      <td>MDR vs 3DM</td>\n      <td>10394</td>\n      <td>1</td>\n      <td>130451</td>\n      <td>132474</td>\n      <td>130451</td>\n      <td>d</td>\n      <td>0</td>\n      <td>Regular Season</td>\n      <td>130451</td>\n      <td>-1</td>\n      <td>-1</td>\n      <td>-1</td>\n      <td>-1</td>\n      <td>NaN</td>\n    </tr>\n    <tr>\n      <th>43973</th>\n      <td>770196</td>\n      <td>ZER vs VLNT</td>\n      <td>10394</td>\n      <td>1</td>\n      <td>131616</td>\n      <td>132475</td>\n      <td>131616</td>\n      <td>d</td>\n      <td>0</td>\n      <td>Regular Season</td>\n      <td>131616</td>\n      <td>-1</td>\n      <td>-1</td>\n      <td>-1</td>\n      <td>-1</td>\n      <td>NaN</td>\n    </tr>\n  </tbody>\n</table>\n<p>43974 rows × 16 columns</p>\n</div>"
     },
     "execution_count": 19,
     "metadata": {},
     "output_type": "execute_result"
    }
   ],
   "source": [
    "concatenated_matches_infos_dataframe = pd.read_pickle(\"../machine_learning/dataframes/data\")\n",
    "\n",
    "percentage_of_win_per_team_after_won_game_1 = concatenated_matches_infos_dataframe[concatenated_matches_infos_dataframe[\"winner_id\"] == concatenated_matches_infos_dataframe[\"Game 1 winner_id\"]].groupby(\n",
    "    \"team_id\").size() / concatenated_matches_infos_dataframe.groupby(\"team_id\").size() * 100\n",
    "\n",
    "percentage_of_win_per_team_after_won_game_1.name = \"percentage_of_win_per_team_after_won_game_1\"\n",
    "\n",
    "concatenated_matches_infos_dataframe = pd.merge(concatenated_matches_infos_dataframe, percentage_of_win_per_team_after_won_game_1.to_frame(), left_on=\"team_id\", right_index=True, how=\"left\")\n",
    "\n",
    "concatenated_matches_infos_dataframe[(concatenated_matches_infos_dataframe[\"team_id\"] == 100) & (concatenated_matches_infos_dataframe[\"Game 1 winner_id\"] == 100)].columns"
   ],
   "metadata": {
    "collapsed": false,
    "ExecuteTime": {
     "end_time": "2023-05-26T16:45:22.183935Z",
     "start_time": "2023-05-26T16:45:21.455854900Z"
    }
   }
  },
  {
   "cell_type": "code",
   "execution_count": 70,
   "outputs": [
    {
     "ename": "KeyError",
     "evalue": "'team_id'",
     "output_type": "error",
     "traceback": [
      "\u001B[1;31m---------------------------------------------------------------------------\u001B[0m",
      "\u001B[1;31mKeyError\u001B[0m                                  Traceback (most recent call last)",
      "Cell \u001B[1;32mIn[70], line 3\u001B[0m\n\u001B[0;32m      1\u001B[0m matches_infos_dataframe \u001B[38;5;241m=\u001B[39m pd\u001B[38;5;241m.\u001B[39mread_pickle(\u001B[38;5;124m\"\u001B[39m\u001B[38;5;124m../machine_learning/dataframes/data\u001B[39m\u001B[38;5;124m\"\u001B[39m)\n\u001B[1;32m----> 3\u001B[0m team_games_against_opponent \u001B[38;5;241m=\u001B[39m \u001B[43mmatches_infos_dataframe\u001B[49m\u001B[38;5;241;43m.\u001B[39;49m\u001B[43mgroupby\u001B[49m\u001B[43m(\u001B[49m\u001B[43m[\u001B[49m\u001B[38;5;124;43m\"\u001B[39;49m\u001B[38;5;124;43mteam_id\u001B[39;49m\u001B[38;5;124;43m\"\u001B[39;49m\u001B[43m,\u001B[49m\u001B[43m \u001B[49m\u001B[38;5;124;43m\"\u001B[39;49m\u001B[38;5;124;43mopponent_id\u001B[39;49m\u001B[38;5;124;43m\"\u001B[39;49m\u001B[43m]\u001B[49m\u001B[43m)\u001B[49m\u001B[38;5;241m.\u001B[39msize()\n\u001B[0;32m      5\u001B[0m team_games_against_opponent\u001B[38;5;241m.\u001B[39mname \u001B[38;5;241m=\u001B[39m \u001B[38;5;124m\"\u001B[39m\u001B[38;5;124mnumber_of_games_against_opponent\u001B[39m\u001B[38;5;124m\"\u001B[39m\n\u001B[0;32m      7\u001B[0m matches_infos_dataframe \u001B[38;5;241m=\u001B[39m pd\u001B[38;5;241m.\u001B[39mmerge(matches_infos_dataframe, team_games_against_opponent, on\u001B[38;5;241m=\u001B[39m[\u001B[38;5;124m\"\u001B[39m\u001B[38;5;124mteam_id\u001B[39m\u001B[38;5;124m\"\u001B[39m, \u001B[38;5;124m\"\u001B[39m\u001B[38;5;124mopponent_id\u001B[39m\u001B[38;5;124m\"\u001B[39m], how\u001B[38;5;241m=\u001B[39m\u001B[38;5;124m'\u001B[39m\u001B[38;5;124mleft\u001B[39m\u001B[38;5;124m'\u001B[39m)\n",
      "File \u001B[1;32m~\\AppData\\Local\\Programs\\Python\\Python310\\lib\\site-packages\\pandas\\core\\frame.py:8256\u001B[0m, in \u001B[0;36mDataFrame.groupby\u001B[1;34m(self, by, axis, level, as_index, sort, group_keys, observed, dropna)\u001B[0m\n\u001B[0;32m   8253\u001B[0m     \u001B[38;5;28;01mraise\u001B[39;00m \u001B[38;5;167;01mTypeError\u001B[39;00m(\u001B[38;5;124m\"\u001B[39m\u001B[38;5;124mYou have to supply one of \u001B[39m\u001B[38;5;124m'\u001B[39m\u001B[38;5;124mby\u001B[39m\u001B[38;5;124m'\u001B[39m\u001B[38;5;124m and \u001B[39m\u001B[38;5;124m'\u001B[39m\u001B[38;5;124mlevel\u001B[39m\u001B[38;5;124m'\u001B[39m\u001B[38;5;124m\"\u001B[39m)\n\u001B[0;32m   8254\u001B[0m axis \u001B[38;5;241m=\u001B[39m \u001B[38;5;28mself\u001B[39m\u001B[38;5;241m.\u001B[39m_get_axis_number(axis)\n\u001B[1;32m-> 8256\u001B[0m \u001B[38;5;28;01mreturn\u001B[39;00m \u001B[43mDataFrameGroupBy\u001B[49m\u001B[43m(\u001B[49m\n\u001B[0;32m   8257\u001B[0m \u001B[43m    \u001B[49m\u001B[43mobj\u001B[49m\u001B[38;5;241;43m=\u001B[39;49m\u001B[38;5;28;43mself\u001B[39;49m\u001B[43m,\u001B[49m\n\u001B[0;32m   8258\u001B[0m \u001B[43m    \u001B[49m\u001B[43mkeys\u001B[49m\u001B[38;5;241;43m=\u001B[39;49m\u001B[43mby\u001B[49m\u001B[43m,\u001B[49m\n\u001B[0;32m   8259\u001B[0m \u001B[43m    \u001B[49m\u001B[43maxis\u001B[49m\u001B[38;5;241;43m=\u001B[39;49m\u001B[43maxis\u001B[49m\u001B[43m,\u001B[49m\n\u001B[0;32m   8260\u001B[0m \u001B[43m    \u001B[49m\u001B[43mlevel\u001B[49m\u001B[38;5;241;43m=\u001B[39;49m\u001B[43mlevel\u001B[49m\u001B[43m,\u001B[49m\n\u001B[0;32m   8261\u001B[0m \u001B[43m    \u001B[49m\u001B[43mas_index\u001B[49m\u001B[38;5;241;43m=\u001B[39;49m\u001B[43mas_index\u001B[49m\u001B[43m,\u001B[49m\n\u001B[0;32m   8262\u001B[0m \u001B[43m    \u001B[49m\u001B[43msort\u001B[49m\u001B[38;5;241;43m=\u001B[39;49m\u001B[43msort\u001B[49m\u001B[43m,\u001B[49m\n\u001B[0;32m   8263\u001B[0m \u001B[43m    \u001B[49m\u001B[43mgroup_keys\u001B[49m\u001B[38;5;241;43m=\u001B[39;49m\u001B[43mgroup_keys\u001B[49m\u001B[43m,\u001B[49m\n\u001B[0;32m   8264\u001B[0m \u001B[43m    \u001B[49m\u001B[43mobserved\u001B[49m\u001B[38;5;241;43m=\u001B[39;49m\u001B[43mobserved\u001B[49m\u001B[43m,\u001B[49m\n\u001B[0;32m   8265\u001B[0m \u001B[43m    \u001B[49m\u001B[43mdropna\u001B[49m\u001B[38;5;241;43m=\u001B[39;49m\u001B[43mdropna\u001B[49m\u001B[43m,\u001B[49m\n\u001B[0;32m   8266\u001B[0m \u001B[43m\u001B[49m\u001B[43m)\u001B[49m\n",
      "File \u001B[1;32m~\\AppData\\Local\\Programs\\Python\\Python310\\lib\\site-packages\\pandas\\core\\groupby\\groupby.py:931\u001B[0m, in \u001B[0;36mGroupBy.__init__\u001B[1;34m(self, obj, keys, axis, level, grouper, exclusions, selection, as_index, sort, group_keys, observed, dropna)\u001B[0m\n\u001B[0;32m    928\u001B[0m \u001B[38;5;28mself\u001B[39m\u001B[38;5;241m.\u001B[39mdropna \u001B[38;5;241m=\u001B[39m dropna\n\u001B[0;32m    930\u001B[0m \u001B[38;5;28;01mif\u001B[39;00m grouper \u001B[38;5;129;01mis\u001B[39;00m \u001B[38;5;28;01mNone\u001B[39;00m:\n\u001B[1;32m--> 931\u001B[0m     grouper, exclusions, obj \u001B[38;5;241m=\u001B[39m \u001B[43mget_grouper\u001B[49m\u001B[43m(\u001B[49m\n\u001B[0;32m    932\u001B[0m \u001B[43m        \u001B[49m\u001B[43mobj\u001B[49m\u001B[43m,\u001B[49m\n\u001B[0;32m    933\u001B[0m \u001B[43m        \u001B[49m\u001B[43mkeys\u001B[49m\u001B[43m,\u001B[49m\n\u001B[0;32m    934\u001B[0m \u001B[43m        \u001B[49m\u001B[43maxis\u001B[49m\u001B[38;5;241;43m=\u001B[39;49m\u001B[43maxis\u001B[49m\u001B[43m,\u001B[49m\n\u001B[0;32m    935\u001B[0m \u001B[43m        \u001B[49m\u001B[43mlevel\u001B[49m\u001B[38;5;241;43m=\u001B[39;49m\u001B[43mlevel\u001B[49m\u001B[43m,\u001B[49m\n\u001B[0;32m    936\u001B[0m \u001B[43m        \u001B[49m\u001B[43msort\u001B[49m\u001B[38;5;241;43m=\u001B[39;49m\u001B[43msort\u001B[49m\u001B[43m,\u001B[49m\n\u001B[0;32m    937\u001B[0m \u001B[43m        \u001B[49m\u001B[43mobserved\u001B[49m\u001B[38;5;241;43m=\u001B[39;49m\u001B[43mobserved\u001B[49m\u001B[43m,\u001B[49m\n\u001B[0;32m    938\u001B[0m \u001B[43m        \u001B[49m\u001B[43mdropna\u001B[49m\u001B[38;5;241;43m=\u001B[39;49m\u001B[38;5;28;43mself\u001B[39;49m\u001B[38;5;241;43m.\u001B[39;49m\u001B[43mdropna\u001B[49m\u001B[43m,\u001B[49m\n\u001B[0;32m    939\u001B[0m \u001B[43m    \u001B[49m\u001B[43m)\u001B[49m\n\u001B[0;32m    941\u001B[0m \u001B[38;5;28mself\u001B[39m\u001B[38;5;241m.\u001B[39mobj \u001B[38;5;241m=\u001B[39m obj\n\u001B[0;32m    942\u001B[0m \u001B[38;5;28mself\u001B[39m\u001B[38;5;241m.\u001B[39maxis \u001B[38;5;241m=\u001B[39m obj\u001B[38;5;241m.\u001B[39m_get_axis_number(axis)\n",
      "File \u001B[1;32m~\\AppData\\Local\\Programs\\Python\\Python310\\lib\\site-packages\\pandas\\core\\groupby\\grouper.py:985\u001B[0m, in \u001B[0;36mget_grouper\u001B[1;34m(obj, key, axis, level, sort, observed, validate, dropna)\u001B[0m\n\u001B[0;32m    983\u001B[0m         in_axis, level, gpr \u001B[38;5;241m=\u001B[39m \u001B[38;5;28;01mFalse\u001B[39;00m, gpr, \u001B[38;5;28;01mNone\u001B[39;00m\n\u001B[0;32m    984\u001B[0m     \u001B[38;5;28;01melse\u001B[39;00m:\n\u001B[1;32m--> 985\u001B[0m         \u001B[38;5;28;01mraise\u001B[39;00m \u001B[38;5;167;01mKeyError\u001B[39;00m(gpr)\n\u001B[0;32m    986\u001B[0m \u001B[38;5;28;01melif\u001B[39;00m \u001B[38;5;28misinstance\u001B[39m(gpr, Grouper) \u001B[38;5;129;01mand\u001B[39;00m gpr\u001B[38;5;241m.\u001B[39mkey \u001B[38;5;129;01mis\u001B[39;00m \u001B[38;5;129;01mnot\u001B[39;00m \u001B[38;5;28;01mNone\u001B[39;00m:\n\u001B[0;32m    987\u001B[0m     \u001B[38;5;66;03m# Add key to exclusions\u001B[39;00m\n\u001B[0;32m    988\u001B[0m     exclusions\u001B[38;5;241m.\u001B[39madd(gpr\u001B[38;5;241m.\u001B[39mkey)\n",
      "\u001B[1;31mKeyError\u001B[0m: 'team_id'"
     ]
    }
   ],
   "source": [
    "matches_infos_dataframe = pd.read_pickle(\"../machine_learning/dataframes/data\")\n",
    "\n",
    "team_games_against_opponent = matches_infos_dataframe.groupby([\"team_id\", \"opponent_id\"]).size()\n",
    "\n",
    "team_games_against_opponent.name = \"number_of_games_against_opponent\"\n",
    "\n",
    "matches_infos_dataframe = pd.merge(matches_infos_dataframe, team_games_against_opponent, on=[\"team_id\", \"opponent_id\"], how='left')\n",
    "\n",
    "df = matches_infos_dataframe[matches_infos_dataframe[\"team_id\"] == matches_infos_dataframe[\"winner_id\"]]\n",
    "\n",
    "percentage_of_win_against_opponent = df.groupby([\"team_id\", \"opponent_id\"]).size() / team_games_against_opponent * 100\n",
    "percentage_of_win_against_opponent.name = \"percentage_of_win_against_opponent\"\n",
    "\n",
    "matches_infos_dataframe = pd.merge(matches_infos_dataframe, percentage_of_win_against_opponent.to_frame(), on=[\"team_id\", \"opponent_id\"], how='left')\n",
    "\n",
    "matches_infos_dataframe"
   ],
   "metadata": {
    "collapsed": false,
    "ExecuteTime": {
     "end_time": "2023-05-26T14:48:17.251514900Z",
     "start_time": "2023-05-26T14:48:17.187092100Z"
    }
   }
  },
  {
   "cell_type": "code",
   "execution_count": 1,
   "outputs": [
    {
     "ename": "NameError",
     "evalue": "name 'pd' is not defined",
     "output_type": "error",
     "traceback": [
      "\u001B[1;31m---------------------------------------------------------------------------\u001B[0m",
      "\u001B[1;31mNameError\u001B[0m                                 Traceback (most recent call last)",
      "Cell \u001B[1;32mIn[1], line 1\u001B[0m\n\u001B[1;32m----> 1\u001B[0m matches_infos_dataframe \u001B[38;5;241m=\u001B[39m \u001B[43mpd\u001B[49m\u001B[38;5;241m.\u001B[39mread_pickle(\u001B[38;5;124m\"\u001B[39m\u001B[38;5;124m../machine_learning/dataframes/data\u001B[39m\u001B[38;5;124m\"\u001B[39m)\n\u001B[0;32m      3\u001B[0m matches_infos_dataframe\n",
      "\u001B[1;31mNameError\u001B[0m: name 'pd' is not defined"
     ]
    }
   ],
   "source": [
    "matches_infos_dataframe = pd.read_pickle(\"../machine_learning/dataframes/data\")\n",
    "\n",
    "matches_infos_dataframe"
   ],
   "metadata": {
    "collapsed": false,
    "ExecuteTime": {
     "end_time": "2023-06-01T00:26:29.698496400Z",
     "start_time": "2023-06-01T00:26:28.970331100Z"
    }
   }
  },
  {
   "cell_type": "markdown",
   "source": [],
   "metadata": {
    "collapsed": false
   }
  },
  {
   "cell_type": "code",
   "execution_count": 53,
   "outputs": [],
   "source": [
    "df = pd.read_pickle(\"../machine_learning/dataframes/final_dataframe\")\n",
    "\n",
    "a = df[(df[\"team_id\"] == df[\"winner_id\"]) & (df[\"team_id\"] == df[\"Game 1 winner_id\"])].groupby(\"team_id\")[\"team_id\"].count()\n",
    "\n",
    "b = df.groupby(\"team_id\")[\"team_id\"].count()\n",
    "\n",
    "c = a / b\n",
    "\n",
    "df = df.merge(c.to_frame(), left_on=\"team_id\", right_index=True, how=\"left\")\n",
    "\n",
    "df.rename(columns={\"team_id_y\": \"percentage_of_win_after_won_game_1\", \"team_id_x\": \"team_id\"}, inplace=True)\n",
    "\n",
    "df['percentage_of_win_against_opponent'] = df.apply(lambda row: df[(df['team_id'] == row['team_id']) & (df['opponent_id'] == row['opponent_id'])]['winner_id'].value_counts(normalize=True).get(row['team_id'], np.nan) if row['team_id'] != row['opponent_id'] else np.nan, axis=1)\n",
    "\n",
    "a = df[df[\"team_id\"] == df[\"winner_id\"]].groupby([\"number_of_games\", \"team_id\"])[\"team_id\"].count()\n",
    "\n",
    "b = df.groupby([\"number_of_games\", \"team_id\"])[\"team_id\"].count()\n",
    "\n",
    "c = a / b\n",
    "\n",
    "df = df.merge(c.to_frame(), left_on=[\"number_of_games\", \"team_id\"], right_index=True, how=\"left\")\n",
    "\n",
    "df.rename(columns={\"team_id_y\": \"percentage_of_win_after_n_games\", \"team_id_x\": \"team_id\"}, inplace=True)\n",
    "\n",
    "df.to_pickle(\"../machine_learning/dataframes/final_dataframe\")"
   ],
   "metadata": {
    "collapsed": false,
    "ExecuteTime": {
     "end_time": "2023-06-01T01:09:12.716279500Z",
     "start_time": "2023-06-01T01:08:31.680425100Z"
    }
   }
  },
  {
   "cell_type": "code",
   "execution_count": 51,
   "outputs": [
    {
     "data": {
      "text/plain": "       match_id         name  tournament_id  number_of_games  winner_id   \n0        524964    DW vs MMM           2038                1          0  \\\n1        524965   MMM vs LGC           2038                1          1   \n2        524968    BMR vs AV           2038                1          1   \n3        524970   MMM vs BMR           2038                1          0   \n4        524971    ORD vs DW           2038                1          0   \n...         ...          ...            ...              ...        ...   \n43969    770192    BLX vs JL          10394                1          1   \n43970    770193   WYL vs SOL          10394                1          0   \n43971    770194    AKR vs GM          10394                1          1   \n43972    770195   MDR vs 3DM          10394                1          0   \n43973    770196  ZER vs VLNT          10394                1          0   \n\n       team_id  opponent_id tournament_tier  tournament_has_bracket   \n0          180         2796            None                       0  \\\n1         2796          181            None                       0   \n2         1519          179            None                       0   \n3         2796         1519            None                       0   \n4          180         1521            None                       0   \n...        ...          ...             ...                     ...   \n43969   132476       132656               d                       0   \n43970   133070       130452               d                       0   \n43971   133115       133071               d                       0   \n43972   132474       130451               d                       0   \n43973   132475       131616               d                       0   \n\n      tournament_name  Game 1 winner_id  Game 2 winner_id  Game 3 winner_id   \n0      Regular season                 0                -1                -1  \\\n1      Regular season                 1                -1                -1   \n2      Regular season                 1                -1                -1   \n3      Regular season                 0                -1                -1   \n4      Regular season                 0                -1                -1   \n...               ...               ...               ...               ...   \n43969  Regular Season                 1                -1                -1   \n43970  Regular Season                 0                -1                -1   \n43971  Regular Season                 1                -1                -1   \n43972  Regular Season                 0                -1                -1   \n43973  Regular Season                 0                -1                -1   \n\n       Game 4 winner_id  Game 5 winner_id  percentage_of_win_after_won_game_1   \n0                    -1                -1                            0.531746  \\\n1                    -1                -1                            0.352941   \n2                    -1                -1                            0.714286   \n3                    -1                -1                            0.352941   \n4                    -1                -1                            0.531746   \n...                 ...               ...                                 ...   \n43969                -1                -1                            0.416667   \n43970                -1                -1                            0.333333   \n43971                -1                -1                            0.666667   \n43972                -1                -1                            0.363636   \n43973                -1                -1                            0.538462   \n\n       percentage_of_win_against_opponent  percentage_of_win_after_n_games   \n0                                0.882353                         0.588785  \\\n1                                0.538462                         0.350877   \n2                                1.000000                         0.730769   \n3                                0.333333                         0.350877   \n4                                0.500000                         0.588785   \n...                                   ...                              ...   \n43969                            1.000000                         0.454545   \n43970                                 NaN                         0.333333   \n43971                            1.000000                         0.666667   \n43972                                 NaN                         0.363636   \n43973                            0.500000                         0.545455   \n\n       win_probability  \n0             1.378994  \n1             2.136788  \n2             1.108809  \n3             2.341751  \n4             2.224107  \n...                ...  \n43969         1.118344  \n43970        10.988248  \n43971         1.093664  \n43972        11.207944  \n43973         2.026538  \n\n[43974 rows x 19 columns]",
      "text/html": "<div>\n<style scoped>\n    .dataframe tbody tr th:only-of-type {\n        vertical-align: middle;\n    }\n\n    .dataframe tbody tr th {\n        vertical-align: top;\n    }\n\n    .dataframe thead th {\n        text-align: right;\n    }\n</style>\n<table border=\"1\" class=\"dataframe\">\n  <thead>\n    <tr style=\"text-align: right;\">\n      <th></th>\n      <th>match_id</th>\n      <th>name</th>\n      <th>tournament_id</th>\n      <th>number_of_games</th>\n      <th>winner_id</th>\n      <th>team_id</th>\n      <th>opponent_id</th>\n      <th>tournament_tier</th>\n      <th>tournament_has_bracket</th>\n      <th>tournament_name</th>\n      <th>Game 1 winner_id</th>\n      <th>Game 2 winner_id</th>\n      <th>Game 3 winner_id</th>\n      <th>Game 4 winner_id</th>\n      <th>Game 5 winner_id</th>\n      <th>percentage_of_win_after_won_game_1</th>\n      <th>percentage_of_win_against_opponent</th>\n      <th>percentage_of_win_after_n_games</th>\n      <th>win_probability</th>\n    </tr>\n  </thead>\n  <tbody>\n    <tr>\n      <th>0</th>\n      <td>524964</td>\n      <td>DW vs MMM</td>\n      <td>2038</td>\n      <td>1</td>\n      <td>0</td>\n      <td>180</td>\n      <td>2796</td>\n      <td>None</td>\n      <td>0</td>\n      <td>Regular season</td>\n      <td>0</td>\n      <td>-1</td>\n      <td>-1</td>\n      <td>-1</td>\n      <td>-1</td>\n      <td>0.531746</td>\n      <td>0.882353</td>\n      <td>0.588785</td>\n      <td>1.378994</td>\n    </tr>\n    <tr>\n      <th>1</th>\n      <td>524965</td>\n      <td>MMM vs LGC</td>\n      <td>2038</td>\n      <td>1</td>\n      <td>1</td>\n      <td>2796</td>\n      <td>181</td>\n      <td>None</td>\n      <td>0</td>\n      <td>Regular season</td>\n      <td>1</td>\n      <td>-1</td>\n      <td>-1</td>\n      <td>-1</td>\n      <td>-1</td>\n      <td>0.352941</td>\n      <td>0.538462</td>\n      <td>0.350877</td>\n      <td>2.136788</td>\n    </tr>\n    <tr>\n      <th>2</th>\n      <td>524968</td>\n      <td>BMR vs AV</td>\n      <td>2038</td>\n      <td>1</td>\n      <td>1</td>\n      <td>1519</td>\n      <td>179</td>\n      <td>None</td>\n      <td>0</td>\n      <td>Regular season</td>\n      <td>1</td>\n      <td>-1</td>\n      <td>-1</td>\n      <td>-1</td>\n      <td>-1</td>\n      <td>0.714286</td>\n      <td>1.000000</td>\n      <td>0.730769</td>\n      <td>1.108809</td>\n    </tr>\n    <tr>\n      <th>3</th>\n      <td>524970</td>\n      <td>MMM vs BMR</td>\n      <td>2038</td>\n      <td>1</td>\n      <td>0</td>\n      <td>2796</td>\n      <td>1519</td>\n      <td>None</td>\n      <td>0</td>\n      <td>Regular season</td>\n      <td>0</td>\n      <td>-1</td>\n      <td>-1</td>\n      <td>-1</td>\n      <td>-1</td>\n      <td>0.352941</td>\n      <td>0.333333</td>\n      <td>0.350877</td>\n      <td>2.341751</td>\n    </tr>\n    <tr>\n      <th>4</th>\n      <td>524971</td>\n      <td>ORD vs DW</td>\n      <td>2038</td>\n      <td>1</td>\n      <td>0</td>\n      <td>180</td>\n      <td>1521</td>\n      <td>None</td>\n      <td>0</td>\n      <td>Regular season</td>\n      <td>0</td>\n      <td>-1</td>\n      <td>-1</td>\n      <td>-1</td>\n      <td>-1</td>\n      <td>0.531746</td>\n      <td>0.500000</td>\n      <td>0.588785</td>\n      <td>2.224107</td>\n    </tr>\n    <tr>\n      <th>...</th>\n      <td>...</td>\n      <td>...</td>\n      <td>...</td>\n      <td>...</td>\n      <td>...</td>\n      <td>...</td>\n      <td>...</td>\n      <td>...</td>\n      <td>...</td>\n      <td>...</td>\n      <td>...</td>\n      <td>...</td>\n      <td>...</td>\n      <td>...</td>\n      <td>...</td>\n      <td>...</td>\n      <td>...</td>\n      <td>...</td>\n      <td>...</td>\n    </tr>\n    <tr>\n      <th>43969</th>\n      <td>770192</td>\n      <td>BLX vs JL</td>\n      <td>10394</td>\n      <td>1</td>\n      <td>1</td>\n      <td>132476</td>\n      <td>132656</td>\n      <td>d</td>\n      <td>0</td>\n      <td>Regular Season</td>\n      <td>1</td>\n      <td>-1</td>\n      <td>-1</td>\n      <td>-1</td>\n      <td>-1</td>\n      <td>0.416667</td>\n      <td>1.000000</td>\n      <td>0.454545</td>\n      <td>1.118344</td>\n    </tr>\n    <tr>\n      <th>43970</th>\n      <td>770193</td>\n      <td>WYL vs SOL</td>\n      <td>10394</td>\n      <td>1</td>\n      <td>0</td>\n      <td>133070</td>\n      <td>130452</td>\n      <td>d</td>\n      <td>0</td>\n      <td>Regular Season</td>\n      <td>0</td>\n      <td>-1</td>\n      <td>-1</td>\n      <td>-1</td>\n      <td>-1</td>\n      <td>0.333333</td>\n      <td>NaN</td>\n      <td>0.333333</td>\n      <td>10.988248</td>\n    </tr>\n    <tr>\n      <th>43971</th>\n      <td>770194</td>\n      <td>AKR vs GM</td>\n      <td>10394</td>\n      <td>1</td>\n      <td>1</td>\n      <td>133115</td>\n      <td>133071</td>\n      <td>d</td>\n      <td>0</td>\n      <td>Regular Season</td>\n      <td>1</td>\n      <td>-1</td>\n      <td>-1</td>\n      <td>-1</td>\n      <td>-1</td>\n      <td>0.666667</td>\n      <td>1.000000</td>\n      <td>0.666667</td>\n      <td>1.093664</td>\n    </tr>\n    <tr>\n      <th>43972</th>\n      <td>770195</td>\n      <td>MDR vs 3DM</td>\n      <td>10394</td>\n      <td>1</td>\n      <td>0</td>\n      <td>132474</td>\n      <td>130451</td>\n      <td>d</td>\n      <td>0</td>\n      <td>Regular Season</td>\n      <td>0</td>\n      <td>-1</td>\n      <td>-1</td>\n      <td>-1</td>\n      <td>-1</td>\n      <td>0.363636</td>\n      <td>NaN</td>\n      <td>0.363636</td>\n      <td>11.207944</td>\n    </tr>\n    <tr>\n      <th>43973</th>\n      <td>770196</td>\n      <td>ZER vs VLNT</td>\n      <td>10394</td>\n      <td>1</td>\n      <td>0</td>\n      <td>132475</td>\n      <td>131616</td>\n      <td>d</td>\n      <td>0</td>\n      <td>Regular Season</td>\n      <td>0</td>\n      <td>-1</td>\n      <td>-1</td>\n      <td>-1</td>\n      <td>-1</td>\n      <td>0.538462</td>\n      <td>0.500000</td>\n      <td>0.545455</td>\n      <td>2.026538</td>\n    </tr>\n  </tbody>\n</table>\n<p>43974 rows × 19 columns</p>\n</div>"
     },
     "execution_count": 51,
     "metadata": {},
     "output_type": "execute_result"
    }
   ],
   "source": [
    "import pickle\n",
    "from sklearn.impute import SimpleImputer\n",
    "\n",
    "df = pd.read_pickle(\"../machine_learning/dataframes/final_dataframe_modified\")\n",
    "\n",
    "X = df[['match_id', 'winner_id', 'tournament_id', 'number_of_games', 'tournament_tier', 'tournament_has_bracket',\n",
    "        'percentage_of_win_after_won_game_1', 'percentage_of_win_against_opponent', 'percentage_of_win_after_n_games']]\n",
    "\n",
    "X = X.apply(pd.to_numeric, errors='coerce')\n",
    "\n",
    "# Imputer les valeurs manquantes avec la moyenne\n",
    "imputer = SimpleImputer(strategy='mean')\n",
    "X = imputer.fit_transform(X)\n",
    "\n",
    "with open(\"../machine_learning/data/model.pickle\", \"rb\") as file:\n",
    "    calibrated_model = pickle.load(file)\n",
    "\n",
    "for i in range(len(df)):\n",
    "    prediction = calibrated_model.predict_proba([X[i]])[0][1]\n",
    "    df.at[i, 'win_probability'] = (1 / prediction)\n",
    "\n",
    "# Afficher le dataframe mis à jour\n",
    "df"
   ],
   "metadata": {
    "collapsed": false,
    "ExecuteTime": {
     "end_time": "2023-06-02T23:44:36.263796289Z",
     "start_time": "2023-06-02T23:10:19.559460552Z"
    }
   }
  },
  {
   "cell_type": "code",
   "execution_count": 54,
   "outputs": [],
   "source": [
    "df.to_pickle(\"../machine_learning/dataframes/final_dataframe_odds\")"
   ],
   "metadata": {
    "collapsed": false,
    "ExecuteTime": {
     "end_time": "2023-06-02T23:47:45.156438971Z",
     "start_time": "2023-06-02T23:47:44.607341850Z"
    }
   }
  },
  {
   "cell_type": "code",
   "execution_count": 55,
   "outputs": [
    {
     "data": {
      "text/plain": "       match_id         name  tournament_id  number_of_games  winner_id   \n0        524964    DW vs MMM           2038                1          0  \\\n1        524965   MMM vs LGC           2038                1          1   \n2        524968    BMR vs AV           2038                1          1   \n3        524970   MMM vs BMR           2038                1          0   \n4        524971    ORD vs DW           2038                1          0   \n...         ...          ...            ...              ...        ...   \n43969    770192    BLX vs JL          10394                1          1   \n43970    770193   WYL vs SOL          10394                1          0   \n43971    770194    AKR vs GM          10394                1          1   \n43972    770195   MDR vs 3DM          10394                1          0   \n43973    770196  ZER vs VLNT          10394                1          0   \n\n       team_id  opponent_id tournament_tier  tournament_has_bracket   \n0          180         2796            None                       0  \\\n1         2796          181            None                       0   \n2         1519          179            None                       0   \n3         2796         1519            None                       0   \n4          180         1521            None                       0   \n...        ...          ...             ...                     ...   \n43969   132476       132656               d                       0   \n43970   133070       130452               d                       0   \n43971   133115       133071               d                       0   \n43972   132474       130451               d                       0   \n43973   132475       131616               d                       0   \n\n      tournament_name  Game 1 winner_id  Game 2 winner_id  Game 3 winner_id   \n0      Regular season                 0                -1                -1  \\\n1      Regular season                 1                -1                -1   \n2      Regular season                 1                -1                -1   \n3      Regular season                 0                -1                -1   \n4      Regular season                 0                -1                -1   \n...               ...               ...               ...               ...   \n43969  Regular Season                 1                -1                -1   \n43970  Regular Season                 0                -1                -1   \n43971  Regular Season                 1                -1                -1   \n43972  Regular Season                 0                -1                -1   \n43973  Regular Season                 0                -1                -1   \n\n       Game 4 winner_id  Game 5 winner_id  percentage_of_win_after_won_game_1   \n0                    -1                -1                            0.531746  \\\n1                    -1                -1                            0.352941   \n2                    -1                -1                            0.714286   \n3                    -1                -1                            0.352941   \n4                    -1                -1                            0.531746   \n...                 ...               ...                                 ...   \n43969                -1                -1                            0.416667   \n43970                -1                -1                            0.333333   \n43971                -1                -1                            0.666667   \n43972                -1                -1                            0.363636   \n43973                -1                -1                            0.538462   \n\n       percentage_of_win_against_opponent  percentage_of_win_after_n_games   \n0                                0.882353                         0.588785  \\\n1                                0.538462                         0.350877   \n2                                1.000000                         0.730769   \n3                                0.333333                         0.350877   \n4                                0.500000                         0.588785   \n...                                   ...                              ...   \n43969                            1.000000                         0.454545   \n43970                                 NaN                         0.333333   \n43971                            1.000000                         0.666667   \n43972                                 NaN                         0.363636   \n43973                            0.500000                         0.545455   \n\n       win_probability  \n0             1.378994  \n1             2.136788  \n2             1.108809  \n3             2.341751  \n4             2.224107  \n...                ...  \n43969         1.118344  \n43970        10.988248  \n43971         1.093664  \n43972        11.207944  \n43973         2.026538  \n\n[43974 rows x 19 columns]",
      "text/html": "<div>\n<style scoped>\n    .dataframe tbody tr th:only-of-type {\n        vertical-align: middle;\n    }\n\n    .dataframe tbody tr th {\n        vertical-align: top;\n    }\n\n    .dataframe thead th {\n        text-align: right;\n    }\n</style>\n<table border=\"1\" class=\"dataframe\">\n  <thead>\n    <tr style=\"text-align: right;\">\n      <th></th>\n      <th>match_id</th>\n      <th>name</th>\n      <th>tournament_id</th>\n      <th>number_of_games</th>\n      <th>winner_id</th>\n      <th>team_id</th>\n      <th>opponent_id</th>\n      <th>tournament_tier</th>\n      <th>tournament_has_bracket</th>\n      <th>tournament_name</th>\n      <th>Game 1 winner_id</th>\n      <th>Game 2 winner_id</th>\n      <th>Game 3 winner_id</th>\n      <th>Game 4 winner_id</th>\n      <th>Game 5 winner_id</th>\n      <th>percentage_of_win_after_won_game_1</th>\n      <th>percentage_of_win_against_opponent</th>\n      <th>percentage_of_win_after_n_games</th>\n      <th>win_probability</th>\n    </tr>\n  </thead>\n  <tbody>\n    <tr>\n      <th>0</th>\n      <td>524964</td>\n      <td>DW vs MMM</td>\n      <td>2038</td>\n      <td>1</td>\n      <td>0</td>\n      <td>180</td>\n      <td>2796</td>\n      <td>None</td>\n      <td>0</td>\n      <td>Regular season</td>\n      <td>0</td>\n      <td>-1</td>\n      <td>-1</td>\n      <td>-1</td>\n      <td>-1</td>\n      <td>0.531746</td>\n      <td>0.882353</td>\n      <td>0.588785</td>\n      <td>1.378994</td>\n    </tr>\n    <tr>\n      <th>1</th>\n      <td>524965</td>\n      <td>MMM vs LGC</td>\n      <td>2038</td>\n      <td>1</td>\n      <td>1</td>\n      <td>2796</td>\n      <td>181</td>\n      <td>None</td>\n      <td>0</td>\n      <td>Regular season</td>\n      <td>1</td>\n      <td>-1</td>\n      <td>-1</td>\n      <td>-1</td>\n      <td>-1</td>\n      <td>0.352941</td>\n      <td>0.538462</td>\n      <td>0.350877</td>\n      <td>2.136788</td>\n    </tr>\n    <tr>\n      <th>2</th>\n      <td>524968</td>\n      <td>BMR vs AV</td>\n      <td>2038</td>\n      <td>1</td>\n      <td>1</td>\n      <td>1519</td>\n      <td>179</td>\n      <td>None</td>\n      <td>0</td>\n      <td>Regular season</td>\n      <td>1</td>\n      <td>-1</td>\n      <td>-1</td>\n      <td>-1</td>\n      <td>-1</td>\n      <td>0.714286</td>\n      <td>1.000000</td>\n      <td>0.730769</td>\n      <td>1.108809</td>\n    </tr>\n    <tr>\n      <th>3</th>\n      <td>524970</td>\n      <td>MMM vs BMR</td>\n      <td>2038</td>\n      <td>1</td>\n      <td>0</td>\n      <td>2796</td>\n      <td>1519</td>\n      <td>None</td>\n      <td>0</td>\n      <td>Regular season</td>\n      <td>0</td>\n      <td>-1</td>\n      <td>-1</td>\n      <td>-1</td>\n      <td>-1</td>\n      <td>0.352941</td>\n      <td>0.333333</td>\n      <td>0.350877</td>\n      <td>2.341751</td>\n    </tr>\n    <tr>\n      <th>4</th>\n      <td>524971</td>\n      <td>ORD vs DW</td>\n      <td>2038</td>\n      <td>1</td>\n      <td>0</td>\n      <td>180</td>\n      <td>1521</td>\n      <td>None</td>\n      <td>0</td>\n      <td>Regular season</td>\n      <td>0</td>\n      <td>-1</td>\n      <td>-1</td>\n      <td>-1</td>\n      <td>-1</td>\n      <td>0.531746</td>\n      <td>0.500000</td>\n      <td>0.588785</td>\n      <td>2.224107</td>\n    </tr>\n    <tr>\n      <th>...</th>\n      <td>...</td>\n      <td>...</td>\n      <td>...</td>\n      <td>...</td>\n      <td>...</td>\n      <td>...</td>\n      <td>...</td>\n      <td>...</td>\n      <td>...</td>\n      <td>...</td>\n      <td>...</td>\n      <td>...</td>\n      <td>...</td>\n      <td>...</td>\n      <td>...</td>\n      <td>...</td>\n      <td>...</td>\n      <td>...</td>\n      <td>...</td>\n    </tr>\n    <tr>\n      <th>43969</th>\n      <td>770192</td>\n      <td>BLX vs JL</td>\n      <td>10394</td>\n      <td>1</td>\n      <td>1</td>\n      <td>132476</td>\n      <td>132656</td>\n      <td>d</td>\n      <td>0</td>\n      <td>Regular Season</td>\n      <td>1</td>\n      <td>-1</td>\n      <td>-1</td>\n      <td>-1</td>\n      <td>-1</td>\n      <td>0.416667</td>\n      <td>1.000000</td>\n      <td>0.454545</td>\n      <td>1.118344</td>\n    </tr>\n    <tr>\n      <th>43970</th>\n      <td>770193</td>\n      <td>WYL vs SOL</td>\n      <td>10394</td>\n      <td>1</td>\n      <td>0</td>\n      <td>133070</td>\n      <td>130452</td>\n      <td>d</td>\n      <td>0</td>\n      <td>Regular Season</td>\n      <td>0</td>\n      <td>-1</td>\n      <td>-1</td>\n      <td>-1</td>\n      <td>-1</td>\n      <td>0.333333</td>\n      <td>NaN</td>\n      <td>0.333333</td>\n      <td>10.988248</td>\n    </tr>\n    <tr>\n      <th>43971</th>\n      <td>770194</td>\n      <td>AKR vs GM</td>\n      <td>10394</td>\n      <td>1</td>\n      <td>1</td>\n      <td>133115</td>\n      <td>133071</td>\n      <td>d</td>\n      <td>0</td>\n      <td>Regular Season</td>\n      <td>1</td>\n      <td>-1</td>\n      <td>-1</td>\n      <td>-1</td>\n      <td>-1</td>\n      <td>0.666667</td>\n      <td>1.000000</td>\n      <td>0.666667</td>\n      <td>1.093664</td>\n    </tr>\n    <tr>\n      <th>43972</th>\n      <td>770195</td>\n      <td>MDR vs 3DM</td>\n      <td>10394</td>\n      <td>1</td>\n      <td>0</td>\n      <td>132474</td>\n      <td>130451</td>\n      <td>d</td>\n      <td>0</td>\n      <td>Regular Season</td>\n      <td>0</td>\n      <td>-1</td>\n      <td>-1</td>\n      <td>-1</td>\n      <td>-1</td>\n      <td>0.363636</td>\n      <td>NaN</td>\n      <td>0.363636</td>\n      <td>11.207944</td>\n    </tr>\n    <tr>\n      <th>43973</th>\n      <td>770196</td>\n      <td>ZER vs VLNT</td>\n      <td>10394</td>\n      <td>1</td>\n      <td>0</td>\n      <td>132475</td>\n      <td>131616</td>\n      <td>d</td>\n      <td>0</td>\n      <td>Regular Season</td>\n      <td>0</td>\n      <td>-1</td>\n      <td>-1</td>\n      <td>-1</td>\n      <td>-1</td>\n      <td>0.538462</td>\n      <td>0.500000</td>\n      <td>0.545455</td>\n      <td>2.026538</td>\n    </tr>\n  </tbody>\n</table>\n<p>43974 rows × 19 columns</p>\n</div>"
     },
     "execution_count": 55,
     "metadata": {},
     "output_type": "execute_result"
    }
   ],
   "source": [
    "df = pd.read_pickle(\"../machine_learning/dataframes/final_dataframe_odds\")\n",
    "df"
   ],
   "metadata": {
    "collapsed": false,
    "ExecuteTime": {
     "end_time": "2023-06-02T23:49:10.018285045Z",
     "start_time": "2023-06-02T23:49:08.121693102Z"
    }
   }
  },
  {
   "cell_type": "code",
   "execution_count": null,
   "outputs": [],
   "source": [],
   "metadata": {
    "collapsed": false
   }
  }
 ],
 "metadata": {
  "kernelspec": {
   "display_name": "Python 3",
   "language": "python",
   "name": "python3"
  },
  "language_info": {
   "codemirror_mode": {
    "name": "ipython",
    "version": 2
   },
   "file_extension": ".py",
   "mimetype": "text/x-python",
   "name": "python",
   "nbconvert_exporter": "python",
   "pygments_lexer": "ipython2",
   "version": "2.7.6"
  }
 },
 "nbformat": 4,
 "nbformat_minor": 0
}
